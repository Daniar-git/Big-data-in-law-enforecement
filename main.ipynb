{
 "cells": [
  {
   "cell_type": "code",
   "execution_count": 9,
   "metadata": {},
   "outputs": [
    {
     "name": "stdout",
     "output_type": "stream",
     "text": [
      "Requirement already satisfied: pandas in c:\\users\\dania\\appdata\\local\\packages\\pythonsoftwarefoundation.python.3.10_qbz5n2kfra8p0\\localcache\\local-packages\\python310\\site-packages (2.1.4)\n",
      "Requirement already satisfied: numpy<2,>=1.22.4 in c:\\users\\dania\\appdata\\local\\packages\\pythonsoftwarefoundation.python.3.10_qbz5n2kfra8p0\\localcache\\local-packages\\python310\\site-packages (from pandas) (1.23.4)\n",
      "Requirement already satisfied: pytz>=2020.1 in c:\\users\\dania\\appdata\\local\\packages\\pythonsoftwarefoundation.python.3.10_qbz5n2kfra8p0\\localcache\\local-packages\\python310\\site-packages (from pandas) (2023.3.post1)\n",
      "Requirement already satisfied: tzdata>=2022.1 in c:\\users\\dania\\appdata\\local\\packages\\pythonsoftwarefoundation.python.3.10_qbz5n2kfra8p0\\localcache\\local-packages\\python310\\site-packages (from pandas) (2022.6)\n",
      "Requirement already satisfied: python-dateutil>=2.8.2 in c:\\users\\dania\\appdata\\local\\packages\\pythonsoftwarefoundation.python.3.10_qbz5n2kfra8p0\\localcache\\local-packages\\python310\\site-packages (from pandas) (2.8.2)\n",
      "Requirement already satisfied: six>=1.5 in c:\\users\\dania\\appdata\\local\\packages\\pythonsoftwarefoundation.python.3.10_qbz5n2kfra8p0\\localcache\\local-packages\\python310\\site-packages (from python-dateutil>=2.8.2->pandas) (1.16.0)\n",
      "Note: you may need to restart the kernel to use updated packages.\n"
     ]
    },
    {
     "name": "stderr",
     "output_type": "stream",
     "text": [
      "\n",
      "[notice] A new release of pip is available: 23.0 -> 24.0\n",
      "[notice] To update, run: C:\\Users\\dania\\AppData\\Local\\Microsoft\\WindowsApps\\PythonSoftwareFoundation.Python.3.10_qbz5n2kfra8p0\\python.exe -m pip install --upgrade pip\n"
     ]
    }
   ],
   "source": [
    "pip install pandas"
   ]
  },
  {
   "cell_type": "markdown",
   "metadata": {
    "collapsed": false
   },
   "source": [
    "Pandas"
   ]
  },
  {
   "cell_type": "code",
   "execution_count": null,
   "metadata": {
    "collapsed": false
   },
   "outputs": [],
   "source": [
    "import pandas as pd"
   ]
  },
  {
   "cell_type": "code",
   "execution_count": null,
   "metadata": {
    "collapsed": false
   },
   "outputs": [],
   "source": [
    "df = pd.read_csv('police_fatality_without_header.csv', header=0, encoding='ISO-8859-1')\n"
   ]
  },
  {
   "cell_type": "code",
   "execution_count": null,
   "metadata": {
    "collapsed": false
   },
   "outputs": [],
   "source": [
    "# clean empty rows\n",
    "df_cleaned = df.loc[:, ~df.columns.str.contains('^Unnamed')]"
   ]
  },
  {
   "cell_type": "code",
   "execution_count": null,
   "metadata": {
    "collapsed": false
   },
   "outputs": [],
   "source": [
    "header = ['Person', 'Action', 'Date', 'City', 'Gender', 'Age']\n",
    "df_cleaned.columns = header\n",
    "df_cleaned.to_csv('police_fatality_with_header.csv', index=False)"
   ]
  },
  {
   "cell_type": "markdown",
   "metadata": {
    "collapsed": false
   },
   "source": [
    "Numpy"
   ]
  },
  {
   "cell_type": "code",
   "execution_count": null,
   "metadata": {
    "collapsed": false
   },
   "outputs": [],
   "source": [
    "pip install numpy"
   ]
  },
  {
   "cell_type": "code",
   "execution_count": null,
   "metadata": {
    "collapsed": false
   },
   "outputs": [],
   "source": [
    "import pandas as pd\n",
    "import numpy as np"
   ]
  },
  {
   "cell_type": "code",
   "execution_count": null,
   "metadata": {
    "collapsed": false
   },
   "outputs": [],
   "source": [
    "df = pd.read_csv('police_fatality_with_header.csv')"
   ]
  },
  {
   "cell_type": "code",
   "execution_count": null,
   "metadata": {
    "collapsed": false
   },
   "outputs": [],
   "source": [
    "age_intervals = [(0, 18), (18, 30), (30, 50), (50, 70), (70, np.inf)]\n",
    "age_labels = ['0-18', '18-30', '30-50', '50-70', '70+']"
   ]
  },
  {
   "cell_type": "code",
   "execution_count": null,
   "metadata": {
    "collapsed": false
   },
   "outputs": [],
   "source": [
    "df['Age Group'] = pd.cut(df['Age'], bins=[0, 18, 30, 50, 70, np.inf], labels=age_labels, right=False)"
   ]
  },
  {
   "cell_type": "code",
   "execution_count": null,
   "metadata": {
    "collapsed": false
   },
   "outputs": [],
   "source": [
    "percentage_by_state_and_age = df.groupby(['City', 'Age Group']).size().groupby(level=0).apply(\n",
    "    lambda x: 100 * x / float(x.sum())\n",
    ").unstack().fillna(0)"
   ]
  },
  {
   "cell_type": "code",
   "execution_count": null,
   "metadata": {
    "collapsed": false
   },
   "outputs": [],
   "source": [
    "#save output as csv file\n",
    "percentage_by_state_and_age.to_csv('percentage_by_state_and_age.csv')"
   ]
  },
  {
   "cell_type": "code",
   "execution_count": 13,
   "metadata": {},
   "outputs": [],
   "source": [
    "header = ['Person', 'Action', 'Date', 'City', 'Gender', 'Age']\n",
    "df_cleaned.columns = header\n",
    "df_cleaned.to_csv('police_fatality_with_header.csv', index=False)"
   ]
  },
  {
   "cell_type": "markdown",
   "metadata": {},
   "source": [
    "Numpy"
   ]
  },
  {
   "cell_type": "code",
   "execution_count": 14,
   "metadata": {},
   "outputs": [
    {
     "name": "stdout",
     "output_type": "stream",
     "text": [
      "Requirement already satisfied: numpy in c:\\users\\dania\\appdata\\local\\packages\\pythonsoftwarefoundation.python.3.10_qbz5n2kfra8p0\\localcache\\local-packages\\python310\\site-packages (1.23.4)\n",
      "Note: you may need to restart the kernel to use updated packages.\n"
     ]
    },
    {
     "name": "stderr",
     "output_type": "stream",
     "text": [
      "\n",
      "[notice] A new release of pip is available: 23.0 -> 24.0\n",
      "[notice] To update, run: C:\\Users\\dania\\AppData\\Local\\Microsoft\\WindowsApps\\PythonSoftwareFoundation.Python.3.10_qbz5n2kfra8p0\\python.exe -m pip install --upgrade pip\n"
     ]
    }
   ],
   "source": [
    "pip install numpy"
   ]
  },
  {
   "cell_type": "code",
   "execution_count": 3,
   "metadata": {},
   "outputs": [],
   "source": [
    "import pandas as pd\n",
    "import numpy as np"
   ]
  },
  {
   "cell_type": "code",
   "execution_count": 4,
   "metadata": {},
   "outputs": [],
   "source": [
    "df = pd.read_csv('police_fatality_with_header.csv')"
   ]
  },
  {
   "cell_type": "code",
   "execution_count": 5,
   "metadata": {},
   "outputs": [],
   "source": [
    "age_intervals = [(0, 18), (18, 30), (30, 50), (50, 70), (70, np.inf)]\n",
    "age_labels = ['0-18', '18-30', '30-50', '50-70', '70+']"
   ]
  },
  {
   "cell_type": "code",
   "execution_count": 6,
   "metadata": {},
   "outputs": [],
   "source": [
    "df['Age Group'] = pd.cut(df['Age'], bins=[0, 18, 30, 50, 70, np.inf], labels=age_labels, right=False)"
   ]
  },
  {
   "cell_type": "code",
   "execution_count": 7,
   "metadata": {},
   "outputs": [
    {
     "name": "stderr",
     "output_type": "stream",
     "text": [
      "C:\\Users\\dania\\AppData\\Local\\Temp\\ipykernel_12676\\239723569.py:1: FutureWarning: The default of observed=False is deprecated and will be changed to True in a future version of pandas. Pass observed=False to retain current behavior or observed=True to adopt the future default and silence this warning.\n",
      "  percentage_by_state_and_age = df.groupby(['City', 'Age Group']).size().groupby(level=0).apply(\n"
     ]
    }
   ],
   "source": [
    "percentage_by_state_and_age = df.groupby(['City', 'Age Group']).size().groupby(level=0).apply(\n",
    "    lambda x: 100 * x / float(x.sum())\n",
    ").unstack().fillna(0)"
   ]
  },
  {
   "cell_type": "code",
   "execution_count": 8,
   "metadata": {},
   "outputs": [],
   "source": [
    "#save output as csv file\n",
    "percentage_by_state_and_age.to_csv('percentage_by_state_and_age.csv')"
   ]
  },
  {
   "cell_type": "markdown",
   "metadata": {},
   "source": [
    "SQL"
   ]
  },
  {
   "cell_type": "code",
   "execution_count": 2,
   "metadata": {},
   "outputs": [
    {
     "name": "stderr",
     "output_type": "stream",
     "text": [
      "ERROR: Could not find a version that satisfies the requirement sqlite3 (from versions: none)\n",
      "ERROR: No matching distribution found for sqlite3\n",
      "WARNING: You are using pip version 21.3.1; however, version 24.0 is available.\n",
      "You should consider upgrading via the 'C:\\Users\\dania\\Desktop\\BigData\\venv\\Scripts\\python.exe -m pip install --upgrade pip' command.\n"
     ]
    }
   ],
   "source": [
    "!pip install  sqlite3"
   ]
  },
  {
   "cell_type": "code",
   "execution_count": 4,
   "metadata": {},
   "outputs": [],
   "source": [
    "import sqlite3"
   ]
  },
  {
   "cell_type": "code",
   "execution_count": 5,
   "metadata": {},
   "outputs": [],
   "source": [
    "con = sqlite3.connect(\"end_term.db\")"
   ]
  },
  {
   "cell_type": "code",
   "execution_count": 6,
   "metadata": {},
   "outputs": [],
   "source": [
    "cur = con.cursor()"
   ]
  },
  {
   "cell_type": "code",
   "execution_count": 7,
   "metadata": {},
   "outputs": [
    {
     "data": {
      "text/plain": [
       "<sqlite3.Cursor at 0x203e78a79d0>"
      ]
     },
     "execution_count": 7,
     "metadata": {},
     "output_type": "execute_result"
    }
   ],
   "source": [
    "cur.execute(\"CREATE TABLE bigdata(Person,Action,Date,City,Gender,Age)\")"
   ]
  },
  {
   "cell_type": "code",
   "execution_count": 9,
   "metadata": {},
   "outputs": [],
   "source": [
    "import csv\n"
   ]
  },
  {
   "cell_type": "code",
   "execution_count": 12,
   "metadata": {},
   "outputs": [],
   "source": [
    "with open('police_fatality_with_header.csv', 'r') as csv_file:\n",
    "    csv_reader = csv.reader(csv_file)\n",
    "    \n",
    "    # Skip the header row if it exists\n",
    "    next(csv_reader, None)\n",
    "\n",
    "    for row in csv_reader:\n",
    "        cur.execute(\"INSERT INTO bigdata VALUES (?, ?, ?, ?, ?, ?)\", row)\n",
    "\n",
    "con.commit()"
   ]
  },
  {
   "cell_type": "markdown",
   "metadata": {},
   "source": [
    "Find the most shootings city"
   ]
  },
  {
   "cell_type": "code",
   "execution_count": 23,
   "metadata": {},
   "outputs": [
    {
     "name": "stdout",
     "output_type": "stream",
     "text": [
      "The city with the most shootings is California with 507 occurrences.\n"
     ]
    }
   ],
   "source": [
    "cur.execute(\"SELECT City, COUNT(*) as CrimeCount FROM bigdata WHERE Action = 'Shooting' GROUP BY City ORDER BY CrimeCount DESC LIMIT 1\")\n",
    "result = cur.fetchone()\n",
    "\n",
    "if result:\n",
    "    city, crime_count = result\n",
    "    print(f\"The city with the most shootings is {city} with {crime_count} occurrences.\")\n",
    "else:\n",
    "    print(\"No data found for shootings in the dataset.\")\n"
   ]
  },
  {
   "cell_type": "markdown",
   "metadata": {},
   "source": [
    "The gander that breaks the lawe more"
   ]
  },
  {
   "cell_type": "code",
   "execution_count": 24,
   "metadata": {},
   "outputs": [
    {
     "name": "stdout",
     "output_type": "stream",
     "text": [
      "The gender with the most occurrences of breaking laws is Male with 3882 occurrences.\n"
     ]
    }
   ],
   "source": [
    "cur.execute(\"SELECT Gender, COUNT(*) as GenderCount FROM bigdata GROUP BY Gender ORDER BY GenderCount DESC LIMIT 1\")\n",
    "result = cur.fetchone()\n",
    "\n",
    "if result:\n",
    "    gender, count = result\n",
    "    print(f\"The gender with the most occurrences of breaking laws is {gender} with {count} occurrences.\")\n",
    "else:\n",
    "    print(\"No gender data found in the dataset.\")"
   ]
  },
  {
   "cell_type": "markdown",
   "metadata": {
    "collapsed": false
   },
   "source": [
    "The most frequent age of law breakers"
   ]
  },
  {
   "cell_type": "code",
   "execution_count": 27,
   "metadata": {},
   "outputs": [
    {
     "name": "stdout",
     "output_type": "stream",
     "text": [
      "The most frequent age among law breakers is 26 with 186 occurrences.\n"
     ]
    }
   ],
   "source": [
    "cur.execute(\"SELECT Age, COUNT(*) as AgeCount FROM bigdata GROUP BY Age ORDER BY AgeCount DESC LIMIT 1\")\n",
    "\n",
    "# Fetch the result\n",
    "result = cur.fetchone()\n",
    "\n",
    "# Display the result\n",
    "if result:\n",
    "    age, count = result\n",
    "    print(f\"The most frequent age among law breakers is {age} with {count} occurrences.\")\n",
    "else:\n",
    "    print(\"No age data found in the dataset.\")\n",
    "con.close()"
   ]
  },
  {
   "cell_type": "code",
   "execution_count": 1,
   "metadata": {
    "collapsed": false
   },
   "outputs": [
    {
     "name": "stderr",
     "output_type": "stream",
     "text": [
      "Setting default log level to \"WARN\".\n",
      "To adjust logging level use sc.setLogLevel(newLevel). For SparkR, use setLogLevel(newLevel).\n",
      "24/02/23 18:38:16 WARN NativeCodeLoader: Unable to load native-hadoop library for your platform... using builtin-java classes where applicable\n",
      "                                                                                \r"
     ]
    },
    {
     "name": "stdout",
     "output_type": "stream",
     "text": [
      "Most Popular Actions by City:\n",
      "Most Popular Actions by City (sorted by count descending):\n"
     ]
    },
    {
     "name": "stderr",
     "output_type": "stream",
     "text": [
      "                                                                                \r"
     ]
    },
    {
     "name": "stdout",
     "output_type": "stream",
     "text": [
      "+--------------+--------+-----+\n",
      "|City          |Action  |count|\n",
      "+--------------+--------+-----+\n",
      "|California    |Shooting|169  |\n",
      "|Texas         |Shooting|122  |\n",
      "|Florida       |Shooting|105  |\n",
      "|Arizona       |Shooting|50   |\n",
      "|Ohio          |Shooting|40   |\n",
      "|North Carolina|Shooting|39   |\n",
      "|Oklahoma      |Shooting|36   |\n",
      "|Pennsylvania  |Shooting|34   |\n",
      "|Georgia       |Shooting|33   |\n",
      "|Colorado      |Shooting|31   |\n",
      "|New York      |Shooting|29   |\n",
      "|New Mexico    |Shooting|28   |\n",
      "|Tennessee     |Shooting|27   |\n",
      "|Illinois      |Shooting|27   |\n",
      "|Missouri      |Shooting|26   |\n",
      "|Washington    |Shooting|26   |\n",
      "|Maryland      |Shooting|22   |\n",
      "|Alabama       |Shooting|22   |\n",
      "|Wisconsin     |Shooting|21   |\n",
      "|Indiana       |Shooting|20   |\n",
      "+--------------+--------+-----+\n",
      "only showing top 20 rows\n",
      "\n",
      "Least Popular Actions by City:\n",
      "Least Popular Actions by City (sorted by count ascending):\n",
      "+-----------+----------------------+-----+\n",
      "|City       |Action                |count|\n",
      "+-----------+----------------------+-----+\n",
      "|Kentucky   |Car Accident          |1    |\n",
      "|Alabama    |Other                 |1    |\n",
      "|New Mexico |Car Accident          |1    |\n",
      "|Louisiana  |Other                 |1    |\n",
      "|Alaska     |Physical Confrontation|1    |\n",
      "|Colorado   |Taser Gun             |1    |\n",
      "|New Jersey |Car Accident          |1    |\n",
      "|Michigan   |Car Accident          |1    |\n",
      "|Delaware   |Physical Confrontation|1    |\n",
      "|Michigan   |Taser Gun             |1    |\n",
      "|Georgia    |Other                 |1    |\n",
      "|Michigan   |Physical Confrontation|1    |\n",
      "|Illinois   |Physical Confrontation|1    |\n",
      "|Minnesota  |Physical Confrontation|1    |\n",
      "|Indiana    |car Accident          |1    |\n",
      "|Minnesota  |Taser Gun             |1    |\n",
      "|Alabama    |Taser Gun             |1    |\n",
      "|Mississippi|Other                 |1    |\n",
      "|Colorado   |Other                 |1    |\n",
      "|Mississippi|Taser Gun             |1    |\n",
      "+-----------+----------------------+-----+\n",
      "only showing top 20 rows\n",
      "\n"
     ]
    }
   ],
   "source": [
    "from pyspark.sql import SparkSession\n",
    "from pyspark.sql.functions import col, count\n",
    "from pyspark.sql.types import StructType, StructField, StringType, IntegerType, DateType\n",
    "from pyspark.sql.functions import col, count, desc, asc, rank\n",
    "from pyspark.sql.window import Window\n",
    "from pyspark.sql.functions import desc, asc, rank\n",
    "schema = StructType([\n",
    "    StructField(\"Person\", StringType(), True),\n",
    "    StructField(\"Action\", StringType(), True),\n",
    "    StructField(\"Date\", StringType(), True),\n",
    "    StructField(\"City\", StringType(), True),\n",
    "    StructField(\"Gender\", StringType(), True),\n",
    "    StructField(\"Age\", IntegerType(), True),\n",
    "])\n",
    "\n",
    "spark = SparkSession.builder.appName(\"EndtermBDSpark\").getOrCreate()\n",
    "path = \"police_fatality_with_header.csv\"\n",
    "df = spark.read.csv(path, header=True, inferSchema=True)\n",
    "#to count deaths in each state\n",
    "df = spark.read.csv(path, header=True, schema=schema)\n",
    "\n",
    "action_counts = df.groupBy(\"City\", \"Action\").count()\n",
    "\n",
    "windowSpecDesc = Window.partitionBy(\"City\").orderBy(desc(\"count\"))\n",
    "windowSpecAsc = Window.partitionBy(\"City\").orderBy(asc(\"count\"))\n",
    "#making top most and less popular deaths\n",
    "\n",
    "ranked_actions_desc = action_counts.withColumn(\"rank_desc\", rank().over(windowSpecDesc))\n",
    "ranked_actions_asc = action_counts.withColumn(\"rank_asc\", rank().over(windowSpecAsc))\n",
    "\n",
    "#most popular death reason\n",
    "most_popular_actions = ranked_actions_desc.filter(col(\"rank_desc\") == 1).select(\"City\", \"Action\", \"count\").orderBy(\"City\")\n",
    "most_popular_actions = ranked_actions_desc.filter(col(\"rank_desc\") == 1) \\\n",
    "    .select(\"City\", \"Action\", \"count\") \\\n",
    "    .orderBy(desc(\"count\"))\n",
    "#least popular death reason\n",
    "least_popular_actions = ranked_actions_asc.filter(col(\"rank_asc\") == 1).select(\"City\", \"Action\", \"count\").orderBy(\"City\")\n",
    "least_popular_actions = ranked_actions_asc.filter(col(\"rank_asc\") == 1) \\\n",
    "    .select(\"City\", \"Action\", \"count\") \\\n",
    "    .orderBy(asc(\"count\"))\n",
    "\n",
    "print(\"Most Popular Actions by City:\")\n",
    "print(\"Most Popular Actions by City (sorted by count descending):\")\n",
    "most_popular_actions.show(truncate=False)\n",
    "print(\"Least Popular Actions by City:\")\n",
    "print(\"Least Popular Actions by City (sorted by count ascending):\")\n",
    "least_popular_actions.show(truncate=False)"
   ]
  },
  {
   "cell_type": "code",
   "execution_count": null,
   "metadata": {
    "collapsed": false
   },
   "outputs": [],
   "source": []
  }
 ],
 "metadata": {
  "kernelspec": {
   "display_name": "Python 3",
   "language": "python",
   "name": "python3"
  },
  "language_info": {
   "codemirror_mode": {
    "name": "ipython",
    "version": 3
   },
   "file_extension": ".py",
   "mimetype": "text/x-python",
   "name": "python",
   "nbconvert_exporter": "python",
   "pygments_lexer": "ipython3",
   "version": "3.8.0"
  }
 },
 "nbformat": 4,
 "nbformat_minor": 0
}
